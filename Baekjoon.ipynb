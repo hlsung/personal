{
  "nbformat": 4,
  "nbformat_minor": 0,
  "metadata": {
    "colab": {
      "name": "Baekjoon.ipynb",
      "provenance": [],
      "collapsed_sections": [],
      "authorship_tag": "ABX9TyOgu+GE8Xpou1vUp4a89CDF"
    },
    "kernelspec": {
      "name": "python3",
      "display_name": "Python 3"
    },
    "language_info": {
      "name": "python"
    }
  },
  "cells": [
    {
      "cell_type": "code",
      "execution_count": null,
      "metadata": {
        "id": "Q-OsGEIxnxzG"
      },
      "outputs": [],
      "source": [
        "#1065\n",
        "\n",
        "a=int(input())\n",
        "count=0\n",
        "\n",
        "for i in range (a):\n",
        "    if i+1<100:\n",
        "        count+=1\n",
        "    elif i+1==1000:\n",
        "        break\n",
        "    else:\n",
        "        b=int(((i+1)%1000)/100)\n",
        "        c=int(((i+1)%100)/10)\n",
        "        d=int((i+1)%10)\n",
        "        if b+d==c*2:\n",
        "            count+=1\n",
        "print(count)        "
      ]
    },
    {
      "cell_type": "code",
      "source": [
        "#4673\n",
        "\n",
        "natural=set(range(1,10001))\n",
        "generated=set()\n",
        "\n",
        "for i in range (1,10001):\n",
        "    for j in str(i):\n",
        "        i+=int(j)\n",
        "    generated.add(i)\n",
        "\n",
        "final=natural-generated\n",
        "\n",
        "for j in sorted(final):\n",
        "    print(j)"
      ],
      "metadata": {
        "id": "xH3C5bmiyas8"
      },
      "execution_count": null,
      "outputs": []
    },
    {
      "cell_type": "code",
      "source": [
        "#2798\n",
        "\n"
      ],
      "metadata": {
        "id": "m5oFvVYhdwIm"
      },
      "execution_count": null,
      "outputs": []
    }
  ]
}